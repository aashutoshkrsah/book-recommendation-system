{
  "cells": [
    {
      "cell_type": "markdown",
      "source": [
        "# Step 1: Import Libraries"
      ],
      "metadata": {
        "id": "pGsuBWk1bGws"
      }
    },
    {
      "cell_type": "code",
      "source": [
        "import numpy as np\n",
        "import pandas as pd\n",
        "import matplotlib.pyplot as plt\n",
        "import seaborn as sns\n",
        "import pickle\n",
        "from sklearn.metrics.pairwise import cosine_similarity"
      ],
      "outputs": [],
      "execution_count": null,
      "metadata": {
        "id": "N6GUwLmgahxm"
      }
    },
    {
      "cell_type": "markdown",
      "source": [
        "# Step 2: Data Collection & Exploration"
      ],
      "metadata": {
        "id": "shz9CrjhbMMt"
      }
    },
    {
      "cell_type": "markdown",
      "source": [
        "- Load the datasets"
      ],
      "metadata": {
        "id": "_kG6KAqYbv8c"
      }
    },
    {
      "cell_type": "code",
      "source": [
        "books = pd.read_csv(\"Books.csv\")\n",
        "users = pd.read_csv(\"Users.csv\")\n",
        "ratings = pd.read_csv(\"Ratings.csv\")"
      ],
      "outputs": [
        {
          "output_type": "stream",
          "name": "stderr",
          "text": [
            "/tmp/ipython-input-38-2906776592.py:1: DtypeWarning: Columns (3) have mixed types. Specify dtype option on import or set low_memory=False.\n",
            "  books = pd.read_csv(\"Books.csv\")\n"
          ]
        }
      ],
      "execution_count": null,
      "metadata": {
        "colab": {
          "base_uri": "https://localhost:8080/"
        },
        "id": "PUe0BnHfbKS1",
        "outputId": "567e0a80-e6f1-418f-cb7d-dd1213926f2a"
      }
    },
    {
      "cell_type": "markdown",
      "source": [
        "- Explore the datasets"
      ],
      "metadata": {
        "id": "2l1MhWZibzc1"
      }
    },
    {
      "cell_type": "code",
      "source": [
        "print(\"Books:\\n\", books.head())"
      ],
      "outputs": [
        {
          "output_type": "stream",
          "name": "stdout",
          "text": [
            "Books:\n",
            "          ISBN                                         Book-Title  \\\n",
            "0  0195153448                                Classical Mythology   \n",
            "1  0002005018                                       Clara Callan   \n",
            "2  0060973129                               Decision in Normandy   \n",
            "3  0374157065  Flu: The Story of the Great Influenza Pandemic...   \n",
            "4  0393045218                             The Mummies of Urumchi   \n",
            "\n",
            "            Book-Author Year-Of-Publication                   Publisher  \\\n",
            "0    Mark P. O. Morford                2002     Oxford University Press   \n",
            "1  Richard Bruce Wright                2001       HarperFlamingo Canada   \n",
            "2          Carlo D'Este                1991             HarperPerennial   \n",
            "3      Gina Bari Kolata                1999        Farrar Straus Giroux   \n",
            "4       E. J. W. Barber                1999  W. W. Norton &amp; Company   \n",
            "\n",
            "                                         Image-URL-S  \\\n",
            "0  http://images.amazon.com/images/P/0195153448.0...   \n",
            "1  http://images.amazon.com/images/P/0002005018.0...   \n",
            "2  http://images.amazon.com/images/P/0060973129.0...   \n",
            "3  http://images.amazon.com/images/P/0374157065.0...   \n",
            "4  http://images.amazon.com/images/P/0393045218.0...   \n",
            "\n",
            "                                         Image-URL-M  \\\n",
            "0  http://images.amazon.com/images/P/0195153448.0...   \n",
            "1  http://images.amazon.com/images/P/0002005018.0...   \n",
            "2  http://images.amazon.com/images/P/0060973129.0...   \n",
            "3  http://images.amazon.com/images/P/0374157065.0...   \n",
            "4  http://images.amazon.com/images/P/0393045218.0...   \n",
            "\n",
            "                                         Image-URL-L  \n",
            "0  http://images.amazon.com/images/P/0195153448.0...  \n",
            "1  http://images.amazon.com/images/P/0002005018.0...  \n",
            "2  http://images.amazon.com/images/P/0060973129.0...  \n",
            "3  http://images.amazon.com/images/P/0374157065.0...  \n",
            "4  http://images.amazon.com/images/P/0393045218.0...  \n"
          ]
        }
      ],
      "execution_count": null,
      "metadata": {
        "colab": {
          "base_uri": "https://localhost:8080/"
        },
        "id": "pNFfuMC3b48M",
        "outputId": "8a9376e7-9636-4bf3-b797-2c8efe0825ca"
      }
    },
    {
      "cell_type": "code",
      "source": [
        "print(\"Users:\\n\", users.head())"
      ],
      "outputs": [
        {
          "output_type": "stream",
          "name": "stdout",
          "text": [
            "Users:\n",
            "    User-ID                            Location   Age\n",
            "0        1                  nyc, new york, usa   NaN\n",
            "1        2           stockton, california, usa  18.0\n",
            "2        3     moscow, yukon territory, russia   NaN\n",
            "3        4           porto, v.n.gaia, portugal  17.0\n",
            "4        5  farnborough, hants, united kingdom   NaN\n"
          ]
        }
      ],
      "execution_count": null,
      "metadata": {
        "colab": {
          "base_uri": "https://localhost:8080/"
        },
        "id": "yZuoYYZ9b8hQ",
        "outputId": "fa7c9044-877d-4ca4-e882-af122eb5e314"
      }
    },
    {
      "cell_type": "code",
      "source": [
        "print(\"Ratings:\\n\", ratings.head())"
      ],
      "outputs": [
        {
          "output_type": "stream",
          "name": "stdout",
          "text": [
            "Ratings:\n",
            "    User-ID        ISBN  Book-Rating\n",
            "0   276725  034545104X            0\n",
            "1   276726  0155061224            5\n",
            "2   276727  0446520802            0\n",
            "3   276729  052165615X            3\n",
            "4   276729  0521795028            6\n"
          ]
        }
      ],
      "execution_count": null,
      "metadata": {
        "colab": {
          "base_uri": "https://localhost:8080/"
        },
        "id": "df98pYvtcAjN",
        "outputId": "dc076719-4124-432f-b55a-23f7fc8e134a"
      }
    },
    {
      "cell_type": "code",
      "source": [
        "print(\"Books Shape:\", books.shape)\n",
        "print(\"Users Shape:\", users.shape)\n",
        "print(\"Ratings Shape:\", ratings.shape)"
      ],
      "outputs": [
        {
          "output_type": "stream",
          "name": "stdout",
          "text": [
            "Books Shape: (271360, 8)\n",
            "Users Shape: (278858, 3)\n",
            "Ratings Shape: (1149780, 3)\n"
          ]
        }
      ],
      "execution_count": null,
      "metadata": {
        "colab": {
          "base_uri": "https://localhost:8080/"
        },
        "id": "mZCXcak9cC-j",
        "outputId": "05692fb6-eb16-4142-b982-168fde8e932a"
      }
    },
    {
      "cell_type": "markdown",
      "source": [
        "- Summary statistics"
      ],
      "metadata": {
        "id": "Fld22jSDcSRY"
      }
    },
    {
      "cell_type": "code",
      "source": [
        "print(\"Books Summary:\\n\", books.describe(include='all'))"
      ],
      "outputs": [
        {
          "output_type": "stream",
          "name": "stdout",
          "text": [
            "Books Summary:\n",
            "               ISBN      Book-Title      Book-Author  Year-Of-Publication  \\\n",
            "count       271360          271360           271358               271360   \n",
            "unique      271360          242135           102022                  202   \n",
            "top     020130998X  Selected Poems  Agatha Christie                 2002   \n",
            "freq             1              27              632                13903   \n",
            "\n",
            "        Publisher                                        Image-URL-S  \\\n",
            "count      271358                                             271360   \n",
            "unique      16807                                             271044   \n",
            "top     Harlequin  http://images.amazon.com/images/P/042509474X.0...   \n",
            "freq         7535                                                  2   \n",
            "\n",
            "                                              Image-URL-M  \\\n",
            "count                                              271360   \n",
            "unique                                             271044   \n",
            "top     http://images.amazon.com/images/P/042509474X.0...   \n",
            "freq                                                    2   \n",
            "\n",
            "                                              Image-URL-L  \n",
            "count                                              271357  \n",
            "unique                                             271041  \n",
            "top     http://images.amazon.com/images/P/006091985X.0...  \n",
            "freq                                                    2  \n"
          ]
        }
      ],
      "execution_count": null,
      "metadata": {
        "colab": {
          "base_uri": "https://localhost:8080/"
        },
        "id": "boUPylWfcQd5",
        "outputId": "7d6c2a21-10c4-4f5f-931b-483dcb38cf2b"
      }
    },
    {
      "cell_type": "code",
      "source": [
        "print(\"Users Summary:\\n\", users.describe(include='all'))"
      ],
      "outputs": [
        {
          "output_type": "stream",
          "name": "stdout",
          "text": [
            "Users Summary:\n",
            "              User-ID                         Location            Age\n",
            "count   278858.00000                           278858  168096.000000\n",
            "unique           NaN                            57339            NaN\n",
            "top              NaN  london, england, united kingdom            NaN\n",
            "freq             NaN                             2506            NaN\n",
            "mean    139429.50000                              NaN      34.751434\n",
            "std      80499.51502                              NaN      14.428097\n",
            "min          1.00000                              NaN       0.000000\n",
            "25%      69715.25000                              NaN      24.000000\n",
            "50%     139429.50000                              NaN      32.000000\n",
            "75%     209143.75000                              NaN      44.000000\n",
            "max     278858.00000                              NaN     244.000000\n"
          ]
        }
      ],
      "execution_count": null,
      "metadata": {
        "colab": {
          "base_uri": "https://localhost:8080/"
        },
        "id": "vlGAsKFMcarJ",
        "outputId": "da8f44a8-75f6-4388-9bee-2738f30f26e7"
      }
    },
    {
      "cell_type": "code",
      "source": [
        "print(\"Ratings Summary:\\n\", ratings.describe())"
      ],
      "outputs": [
        {
          "output_type": "stream",
          "name": "stdout",
          "text": [
            "Ratings Summary:\n",
            "             User-ID   Book-Rating\n",
            "count  1.149780e+06  1.149780e+06\n",
            "mean   1.403864e+05  2.866950e+00\n",
            "std    8.056228e+04  3.854184e+00\n",
            "min    2.000000e+00  0.000000e+00\n",
            "25%    7.034500e+04  0.000000e+00\n",
            "50%    1.410100e+05  0.000000e+00\n",
            "75%    2.110280e+05  7.000000e+00\n",
            "max    2.788540e+05  1.000000e+01\n"
          ]
        }
      ],
      "execution_count": null,
      "metadata": {
        "colab": {
          "base_uri": "https://localhost:8080/"
        },
        "id": "r1VgeN3GcecB",
        "outputId": "5d520eba-5cf6-4c04-fd66-84a39b347ab9"
      }
    },
    {
      "cell_type": "markdown",
      "source": [
        "# Step 3: Data Cleaning & Transformation"
      ],
      "metadata": {
        "id": "x7ANCllrci5R"
      }
    },
    {
      "cell_type": "markdown",
      "source": [
        "- Handle missing values"
      ],
      "metadata": {
        "id": "QFSW-tRGcswJ"
      }
    },
    {
      "cell_type": "code",
      "source": [
        "books.dropna(subset=[\"Book-Title\", \"Book-Author\", \"ISBN\"], inplace=True)\n",
        "users.dropna(subset=[\"User-ID\"], inplace=True)\n",
        "ratings.dropna(subset=[\"User-ID\", \"ISBN\", \"Book-Rating\"], inplace=True)"
      ],
      "outputs": [],
      "execution_count": null,
      "metadata": {
        "id": "SCsiEYpJclzV"
      }
    },
    {
      "cell_type": "markdown",
      "source": [
        "- Remove duplicates"
      ],
      "metadata": {
        "id": "bxq9DAtAcwkx"
      }
    },
    {
      "cell_type": "code",
      "source": [
        "books.drop_duplicates(inplace=True)\n",
        "users.drop_duplicates(inplace=True)\n",
        "ratings.drop_duplicates(inplace=True)"
      ],
      "outputs": [],
      "execution_count": null,
      "metadata": {
        "id": "_5UBtUZhcz2G"
      }
    },
    {
      "cell_type": "markdown",
      "source": [
        "- Verify cleaning"
      ],
      "metadata": {
        "id": "F2Nv2m6mc63T"
      }
    },
    {
      "cell_type": "code",
      "source": [
        "print(\"Missing Values (Books):\\n\", books.isnull().sum())\n",
        "print(\"\\n\\nMissing Values (Users):\\n\", users.isnull().sum())\n",
        "print(\"\\n\\nMissing Values (Ratings):\\n\", ratings.isnull().sum())"
      ],
      "outputs": [
        {
          "output_type": "stream",
          "name": "stdout",
          "text": [
            "Missing Values (Books):\n",
            " ISBN                   0\n",
            "Book-Title             0\n",
            "Book-Author            0\n",
            "Year-Of-Publication    0\n",
            "Publisher              2\n",
            "Image-URL-S            0\n",
            "Image-URL-M            0\n",
            "Image-URL-L            3\n",
            "dtype: int64\n",
            "\n",
            "\n",
            "Missing Values (Users):\n",
            " User-ID          0\n",
            "Location         0\n",
            "Age         110762\n",
            "dtype: int64\n",
            "\n",
            "\n",
            "Missing Values (Ratings):\n",
            " User-ID        0\n",
            "ISBN           0\n",
            "Book-Rating    0\n",
            "dtype: int64\n"
          ]
        }
      ],
      "execution_count": null,
      "metadata": {
        "colab": {
          "base_uri": "https://localhost:8080/"
        },
        "id": "ZE4vaPtoc6bZ",
        "outputId": "55849f36-0262-4e6f-9696-a77ed88bf2b8"
      }
    },
    {
      "cell_type": "markdown",
      "source": [
        "# Step 4: Exploratory Data Analysis (EDA)"
      ],
      "metadata": {
        "id": "0_4I2oZZdTEW"
      }
    },
    {
      "cell_type": "markdown",
      "source": [
        "# Top 10 Most Rated Books"
      ],
      "metadata": {
        "id": "HEiEl2BMdWmr"
      }
    },
    {
      "cell_type": "code",
      "source": [
        "top_books = ratings['ISBN'].value_counts().head(10)\n",
        "top_books"
      ],
      "outputs": [
        {
          "output_type": "execute_result",
          "execution_count": 49,
          "data": {
            "text/plain": "ISBN\n0971880107    2502\n0316666343    1295\n0385504209     883\n0060928336     732\n0312195516     723\n044023722X     647\n0679781587     639\n0142001740     615\n067976402X     614\n0671027360     586\nName: count, dtype: int64",
            "text/html": "<div>\n<style scoped>\n    .dataframe tbody tr th:only-of-type {\n        vertical-align: middle;\n    }\n\n    .dataframe tbody tr th {\n        vertical-align: top;\n    }\n\n    .dataframe thead th {\n        text-align: right;\n    }\n</style>\n<table border=\"1\" class=\"dataframe\">\n  <thead>\n    <tr style=\"text-align: right;\">\n      <th></th>\n      <th>count</th>\n    </tr>\n    <tr>\n      <th>ISBN</th>\n      <th></th>\n    </tr>\n  </thead>\n  <tbody>\n    <tr>\n      <th>0971880107</th>\n      <td>2502</td>\n    </tr>\n    <tr>\n      <th>0316666343</th>\n      <td>1295</td>\n    </tr>\n    <tr>\n      <th>0385504209</th>\n      <td>883</td>\n    </tr>\n    <tr>\n      <th>0060928336</th>\n      <td>732</td>\n    </tr>\n    <tr>\n      <th>0312195516</th>\n      <td>723</td>\n    </tr>\n    <tr>\n      <th>044023722X</th>\n      <td>647</td>\n    </tr>\n    <tr>\n      <th>0679781587</th>\n      <td>639</td>\n    </tr>\n    <tr>\n      <th>0142001740</th>\n      <td>615</td>\n    </tr>\n    <tr>\n      <th>067976402X</th>\n      <td>614</td>\n    </tr>\n    <tr>\n      <th>0671027360</th>\n      <td>586</td>\n    </tr>\n  </tbody>\n</table>\n</div><br><label><b>dtype:</b> int64</label>"
          },
          "metadata": {}
        }
      ],
      "execution_count": null,
      "metadata": {
        "colab": {
          "base_uri": "https://localhost:8080/",
          "height": 429
        },
        "id": "aAXoWMC-dVoW",
        "outputId": "77b4039b-399d-4fed-87ea-fa062d22e059"
      }
    },
    {
      "cell_type": "code",
      "source": [
        "top_books_titles = books[books[\"ISBN\"].isin(top_books.index)][[\"ISBN\", \"Book-Title\"]].drop_duplicates()\n",
        "top_books_titles"
      ],
      "outputs": [
        {
          "output_type": "execute_result",
          "execution_count": 50,
          "data": {
            "text/plain": "            ISBN                                       Book-Title\n26    0971880107                                      Wild Animus\n118   0671027360                              Angels &amp; Demons\n305   044023722X                                  A Painted House\n356   0142001740                          The Secret Life of Bees\n408   0316666343                        The Lovely Bones: A Novel\n522   0312195516              The Red Tent (Bestselling Backlist)\n748   0385504209                                The Da Vinci Code\n1105  0060928336  Divine Secrets of the Ya-Ya Sisterhood: A Novel\n1922  067976402X                           Snow Falling on Cedars",
            "text/html": "\n  <div id=\"df-4415b9e0-42fe-4f3e-a392-4b15a8887c1d\" class=\"colab-df-container\">\n    <div>\n<style scoped>\n    .dataframe tbody tr th:only-of-type {\n        vertical-align: middle;\n    }\n\n    .dataframe tbody tr th {\n        vertical-align: top;\n    }\n\n    .dataframe thead th {\n        text-align: right;\n    }\n</style>\n<table border=\"1\" class=\"dataframe\">\n  <thead>\n    <tr style=\"text-align: right;\">\n      <th></th>\n      <th>ISBN</th>\n      <th>Book-Title</th>\n    </tr>\n  </thead>\n  <tbody>\n    <tr>\n      <th>26</th>\n      <td>0971880107</td>\n      <td>Wild Animus</td>\n    </tr>\n    <tr>\n      <th>118</th>\n      <td>0671027360</td>\n      <td>Angels &amp;amp; Demons</td>\n    </tr>\n    <tr>\n      <th>305</th>\n      <td>044023722X</td>\n      <td>A Painted House</td>\n    </tr>\n    <tr>\n      <th>356</th>\n      <td>0142001740</td>\n      <td>The Secret Life of Bees</td>\n    </tr>\n    <tr>\n      <th>408</th>\n      <td>0316666343</td>\n      <td>The Lovely Bones: A Novel</td>\n    </tr>\n    <tr>\n      <th>522</th>\n      <td>0312195516</td>\n      <td>The Red Tent (Bestselling Backlist)</td>\n    </tr>\n    <tr>\n      <th>748</th>\n      <td>0385504209</td>\n      <td>The Da Vinci Code</td>\n    </tr>\n    <tr>\n      <th>1105</th>\n      <td>0060928336</td>\n      <td>Divine Secrets of the Ya-Ya Sisterhood: A Novel</td>\n    </tr>\n    <tr>\n      <th>1922</th>\n      <td>067976402X</td>\n      <td>Snow Falling on Cedars</td>\n    </tr>\n  </tbody>\n</table>\n</div>\n    <div class=\"colab-df-buttons\">\n\n  <div class=\"colab-df-container\">\n    <button class=\"colab-df-convert\" onclick=\"convertToInteractive('df-4415b9e0-42fe-4f3e-a392-4b15a8887c1d')\"\n            title=\"Convert this dataframe to an interactive table.\"\n            style=\"display:none;\">\n\n  <svg xmlns=\"http://www.w3.org/2000/svg\" height=\"24px\" viewBox=\"0 -960 960 960\">\n    <path d=\"M120-120v-720h720v720H120Zm60-500h600v-160H180v160Zm220 220h160v-160H400v160Zm0 220h160v-160H400v160ZM180-400h160v-160H180v160Zm440 0h160v-160H620v160ZM180-180h160v-160H180v160Zm440 0h160v-160H620v160Z\"/>\n  </svg>\n    </button>\n\n  <style>\n    .colab-df-container {\n      display:flex;\n      gap: 12px;\n    }\n\n    .colab-df-convert {\n      background-color: #E8F0FE;\n      border: none;\n      border-radius: 50%;\n      cursor: pointer;\n      display: none;\n      fill: #1967D2;\n      height: 32px;\n      padding: 0 0 0 0;\n      width: 32px;\n    }\n\n    .colab-df-convert:hover {\n      background-color: #E2EBFA;\n      box-shadow: 0px 1px 2px rgba(60, 64, 67, 0.3), 0px 1px 3px 1px rgba(60, 64, 67, 0.15);\n      fill: #174EA6;\n    }\n\n    .colab-df-buttons div {\n      margin-bottom: 4px;\n    }\n\n    [theme=dark] .colab-df-convert {\n      background-color: #3B4455;\n      fill: #D2E3FC;\n    }\n\n    [theme=dark] .colab-df-convert:hover {\n      background-color: #434B5C;\n      box-shadow: 0px 1px 3px 1px rgba(0, 0, 0, 0.15);\n      filter: drop-shadow(0px 1px 2px rgba(0, 0, 0, 0.3));\n      fill: #FFFFFF;\n    }\n  </style>\n\n    <script>\n      const buttonEl =\n        document.querySelector('#df-4415b9e0-42fe-4f3e-a392-4b15a8887c1d button.colab-df-convert');\n      buttonEl.style.display =\n        google.colab.kernel.accessAllowed ? 'block' : 'none';\n\n      async function convertToInteractive(key) {\n        const element = document.querySelector('#df-4415b9e0-42fe-4f3e-a392-4b15a8887c1d');\n        const dataTable =\n          await google.colab.kernel.invokeFunction('convertToInteractive',\n                                                    [key], {});\n        if (!dataTable) return;\n\n        const docLinkHtml = 'Like what you see? Visit the ' +\n          '<a target=\"_blank\" href=https://colab.research.google.com/notebooks/data_table.ipynb>data table notebook</a>'\n          + ' to learn more about interactive tables.';\n        element.innerHTML = '';\n        dataTable['output_type'] = 'display_data';\n        await google.colab.output.renderOutput(dataTable, element);\n        const docLink = document.createElement('div');\n        docLink.innerHTML = docLinkHtml;\n        element.appendChild(docLink);\n      }\n    </script>\n  </div>\n\n\n    <div id=\"df-d75def4c-1ae8-48a5-a936-374f2f7aea7b\">\n      <button class=\"colab-df-quickchart\" onclick=\"quickchart('df-d75def4c-1ae8-48a5-a936-374f2f7aea7b')\"\n                title=\"Suggest charts\"\n                style=\"display:none;\">\n\n<svg xmlns=\"http://www.w3.org/2000/svg\" height=\"24px\"viewBox=\"0 0 24 24\"\n     width=\"24px\">\n    <g>\n        <path d=\"M19 3H5c-1.1 0-2 .9-2 2v14c0 1.1.9 2 2 2h14c1.1 0 2-.9 2-2V5c0-1.1-.9-2-2-2zM9 17H7v-7h2v7zm4 0h-2V7h2v10zm4 0h-2v-4h2v4z\"/>\n    </g>\n</svg>\n      </button>\n\n<style>\n  .colab-df-quickchart {\n      --bg-color: #E8F0FE;\n      --fill-color: #1967D2;\n      --hover-bg-color: #E2EBFA;\n      --hover-fill-color: #174EA6;\n      --disabled-fill-color: #AAA;\n      --disabled-bg-color: #DDD;\n  }\n\n  [theme=dark] .colab-df-quickchart {\n      --bg-color: #3B4455;\n      --fill-color: #D2E3FC;\n      --hover-bg-color: #434B5C;\n      --hover-fill-color: #FFFFFF;\n      --disabled-bg-color: #3B4455;\n      --disabled-fill-color: #666;\n  }\n\n  .colab-df-quickchart {\n    background-color: var(--bg-color);\n    border: none;\n    border-radius: 50%;\n    cursor: pointer;\n    display: none;\n    fill: var(--fill-color);\n    height: 32px;\n    padding: 0;\n    width: 32px;\n  }\n\n  .colab-df-quickchart:hover {\n    background-color: var(--hover-bg-color);\n    box-shadow: 0 1px 2px rgba(60, 64, 67, 0.3), 0 1px 3px 1px rgba(60, 64, 67, 0.15);\n    fill: var(--button-hover-fill-color);\n  }\n\n  .colab-df-quickchart-complete:disabled,\n  .colab-df-quickchart-complete:disabled:hover {\n    background-color: var(--disabled-bg-color);\n    fill: var(--disabled-fill-color);\n    box-shadow: none;\n  }\n\n  .colab-df-spinner {\n    border: 2px solid var(--fill-color);\n    border-color: transparent;\n    border-bottom-color: var(--fill-color);\n    animation:\n      spin 1s steps(1) infinite;\n  }\n\n  @keyframes spin {\n    0% {\n      border-color: transparent;\n      border-bottom-color: var(--fill-color);\n      border-left-color: var(--fill-color);\n    }\n    20% {\n      border-color: transparent;\n      border-left-color: var(--fill-color);\n      border-top-color: var(--fill-color);\n    }\n    30% {\n      border-color: transparent;\n      border-left-color: var(--fill-color);\n      border-top-color: var(--fill-color);\n      border-right-color: var(--fill-color);\n    }\n    40% {\n      border-color: transparent;\n      border-right-color: var(--fill-color);\n      border-top-color: var(--fill-color);\n    }\n    60% {\n      border-color: transparent;\n      border-right-color: var(--fill-color);\n    }\n    80% {\n      border-color: transparent;\n      border-right-color: var(--fill-color);\n      border-bottom-color: var(--fill-color);\n    }\n    90% {\n      border-color: transparent;\n      border-bottom-color: var(--fill-color);\n    }\n  }\n</style>\n\n      <script>\n        async function quickchart(key) {\n          const quickchartButtonEl =\n            document.querySelector('#' + key + ' button');\n          quickchartButtonEl.disabled = true;  // To prevent multiple clicks.\n          quickchartButtonEl.classList.add('colab-df-spinner');\n          try {\n            const charts = await google.colab.kernel.invokeFunction(\n                'suggestCharts', [key], {});\n          } catch (error) {\n            console.error('Error during call to suggestCharts:', error);\n          }\n          quickchartButtonEl.classList.remove('colab-df-spinner');\n          quickchartButtonEl.classList.add('colab-df-quickchart-complete');\n        }\n        (() => {\n          let quickchartButtonEl =\n            document.querySelector('#df-d75def4c-1ae8-48a5-a936-374f2f7aea7b button');\n          quickchartButtonEl.style.display =\n            google.colab.kernel.accessAllowed ? 'block' : 'none';\n        })();\n      </script>\n    </div>\n\n  <div id=\"id_6c236cfb-c525-4c98-a6df-4c6582a6e68f\">\n    <style>\n      .colab-df-generate {\n        background-color: #E8F0FE;\n        border: none;\n        border-radius: 50%;\n        cursor: pointer;\n        display: none;\n        fill: #1967D2;\n        height: 32px;\n        padding: 0 0 0 0;\n        width: 32px;\n      }\n\n      .colab-df-generate:hover {\n        background-color: #E2EBFA;\n        box-shadow: 0px 1px 2px rgba(60, 64, 67, 0.3), 0px 1px 3px 1px rgba(60, 64, 67, 0.15);\n        fill: #174EA6;\n      }\n\n      [theme=dark] .colab-df-generate {\n        background-color: #3B4455;\n        fill: #D2E3FC;\n      }\n\n      [theme=dark] .colab-df-generate:hover {\n        background-color: #434B5C;\n        box-shadow: 0px 1px 3px 1px rgba(0, 0, 0, 0.15);\n        filter: drop-shadow(0px 1px 2px rgba(0, 0, 0, 0.3));\n        fill: #FFFFFF;\n      }\n    </style>\n    <button class=\"colab-df-generate\" onclick=\"generateWithVariable('top_books_titles')\"\n            title=\"Generate code using this dataframe.\"\n            style=\"display:none;\">\n\n  <svg xmlns=\"http://www.w3.org/2000/svg\" height=\"24px\"viewBox=\"0 0 24 24\"\n       width=\"24px\">\n    <path d=\"M7,19H8.4L18.45,9,17,7.55,7,17.6ZM5,21V16.75L18.45,3.32a2,2,0,0,1,2.83,0l1.4,1.43a1.91,1.91,0,0,1,.58,1.4,1.91,1.91,0,0,1-.58,1.4L9.25,21ZM18.45,9,17,7.55Zm-12,3A5.31,5.31,0,0,0,4.9,8.1,5.31,5.31,0,0,0,1,6.5,5.31,5.31,0,0,0,4.9,4.9,5.31,5.31,0,0,0,6.5,1,5.31,5.31,0,0,0,8.1,4.9,5.31,5.31,0,0,0,12,6.5,5.46,5.46,0,0,0,6.5,12Z\"/>\n  </svg>\n    </button>\n    <script>\n      (() => {\n      const buttonEl =\n        document.querySelector('#id_6c236cfb-c525-4c98-a6df-4c6582a6e68f button.colab-df-generate');\n      buttonEl.style.display =\n        google.colab.kernel.accessAllowed ? 'block' : 'none';\n\n      buttonEl.onclick = () => {\n        google.colab.notebook.generateWithVariable('top_books_titles');\n      }\n      })();\n    </script>\n  </div>\n\n    </div>\n  </div>\n",
            "application/vnd.google.colaboratory.intrinsic+json": {
              "type": "dataframe",
              "variable_name": "top_books_titles",
              "summary": "{\n  \"name\": \"top_books_titles\",\n  \"rows\": 9,\n  \"fields\": [\n    {\n      \"column\": \"ISBN\",\n      \"properties\": {\n        \"dtype\": \"string\",\n        \"num_unique_values\": 9,\n        \"samples\": [\n          \"0060928336\",\n          \"0671027360\",\n          \"0312195516\"\n        ],\n        \"semantic_type\": \"\",\n        \"description\": \"\"\n      }\n    },\n    {\n      \"column\": \"Book-Title\",\n      \"properties\": {\n        \"dtype\": \"string\",\n        \"num_unique_values\": 9,\n        \"samples\": [\n          \"Divine Secrets of the Ya-Ya Sisterhood: A Novel\",\n          \"Angels &amp; Demons\",\n          \"The Red Tent (Bestselling Backlist)\"\n        ],\n        \"semantic_type\": \"\",\n        \"description\": \"\"\n      }\n    }\n  ]\n}"
            }
          },
          "metadata": {}
        }
      ],
      "execution_count": null,
      "metadata": {
        "colab": {
          "base_uri": "https://localhost:8080/",
          "height": 331
        },
        "id": "TzWXB9BOe5wV",
        "outputId": "06db865d-498e-4d3f-c906-2d749fdc870c"
      }
    },
    {
      "cell_type": "code",
      "source": [
        "merged = top_books_titles.merge(top_books.rename(\"Counts\"), left_on=\"ISBN\", right_index=True)\n",
        "merged"
      ],
      "outputs": [
        {
          "output_type": "execute_result",
          "execution_count": 51,
          "data": {
            "text/plain": "            ISBN                                       Book-Title  Counts\n26    0971880107                                      Wild Animus    2502\n118   0671027360                              Angels &amp; Demons     586\n305   044023722X                                  A Painted House     647\n356   0142001740                          The Secret Life of Bees     615\n408   0316666343                        The Lovely Bones: A Novel    1295\n522   0312195516              The Red Tent (Bestselling Backlist)     723\n748   0385504209                                The Da Vinci Code     883\n1105  0060928336  Divine Secrets of the Ya-Ya Sisterhood: A Novel     732\n1922  067976402X                           Snow Falling on Cedars     614",
            "text/html": "\n  <div id=\"df-7f8d9995-9574-41ff-a0a1-fc176e7428bb\" class=\"colab-df-container\">\n    <div>\n<style scoped>\n    .dataframe tbody tr th:only-of-type {\n        vertical-align: middle;\n    }\n\n    .dataframe tbody tr th {\n        vertical-align: top;\n    }\n\n    .dataframe thead th {\n        text-align: right;\n    }\n</style>\n<table border=\"1\" class=\"dataframe\">\n  <thead>\n    <tr style=\"text-align: right;\">\n      <th></th>\n      <th>ISBN</th>\n      <th>Book-Title</th>\n      <th>Counts</th>\n    </tr>\n  </thead>\n  <tbody>\n    <tr>\n      <th>26</th>\n      <td>0971880107</td>\n      <td>Wild Animus</td>\n      <td>2502</td>\n    </tr>\n    <tr>\n      <th>118</th>\n      <td>0671027360</td>\n      <td>Angels &amp;amp; Demons</td>\n      <td>586</td>\n    </tr>\n    <tr>\n      <th>305</th>\n      <td>044023722X</td>\n      <td>A Painted House</td>\n      <td>647</td>\n    </tr>\n    <tr>\n      <th>356</th>\n      <td>0142001740</td>\n      <td>The Secret Life of Bees</td>\n      <td>615</td>\n    </tr>\n    <tr>\n      <th>408</th>\n      <td>0316666343</td>\n      <td>The Lovely Bones: A Novel</td>\n      <td>1295</td>\n    </tr>\n    <tr>\n      <th>522</th>\n      <td>0312195516</td>\n      <td>The Red Tent (Bestselling Backlist)</td>\n      <td>723</td>\n    </tr>\n    <tr>\n      <th>748</th>\n      <td>0385504209</td>\n      <td>The Da Vinci Code</td>\n      <td>883</td>\n    </tr>\n    <tr>\n      <th>1105</th>\n      <td>0060928336</td>\n      <td>Divine Secrets of the Ya-Ya Sisterhood: A Novel</td>\n      <td>732</td>\n    </tr>\n    <tr>\n      <th>1922</th>\n      <td>067976402X</td>\n      <td>Snow Falling on Cedars</td>\n      <td>614</td>\n    </tr>\n  </tbody>\n</table>\n</div>\n    <div class=\"colab-df-buttons\">\n\n  <div class=\"colab-df-container\">\n    <button class=\"colab-df-convert\" onclick=\"convertToInteractive('df-7f8d9995-9574-41ff-a0a1-fc176e7428bb')\"\n            title=\"Convert this dataframe to an interactive table.\"\n            style=\"display:none;\">\n\n  <svg xmlns=\"http://www.w3.org/2000/svg\" height=\"24px\" viewBox=\"0 -960 960 960\">\n    <path d=\"M120-120v-720h720v720H120Zm60-500h600v-160H180v160Zm220 220h160v-160H400v160Zm0 220h160v-160H400v160ZM180-400h160v-160H180v160Zm440 0h160v-160H620v160ZM180-180h160v-160H180v160Zm440 0h160v-160H620v160Z\"/>\n  </svg>\n    </button>\n\n  <style>\n    .colab-df-container {\n      display:flex;\n      gap: 12px;\n    }\n\n    .colab-df-convert {\n      background-color: #E8F0FE;\n      border: none;\n      border-radius: 50%;\n      cursor: pointer;\n      display: none;\n      fill: #1967D2;\n      height: 32px;\n      padding: 0 0 0 0;\n      width: 32px;\n    }\n\n    .colab-df-convert:hover {\n      background-color: #E2EBFA;\n      box-shadow: 0px 1px 2px rgba(60, 64, 67, 0.3), 0px 1px 3px 1px rgba(60, 64, 67, 0.15);\n      fill: #174EA6;\n    }\n\n    .colab-df-buttons div {\n      margin-bottom: 4px;\n    }\n\n    [theme=dark] .colab-df-convert {\n      background-color: #3B4455;\n      fill: #D2E3FC;\n    }\n\n    [theme=dark] .colab-df-convert:hover {\n      background-color: #434B5C;\n      box-shadow: 0px 1px 3px 1px rgba(0, 0, 0, 0.15);\n      filter: drop-shadow(0px 1px 2px rgba(0, 0, 0, 0.3));\n      fill: #FFFFFF;\n    }\n  </style>\n\n    <script>\n      const buttonEl =\n        document.querySelector('#df-7f8d9995-9574-41ff-a0a1-fc176e7428bb button.colab-df-convert');\n      buttonEl.style.display =\n        google.colab.kernel.accessAllowed ? 'block' : 'none';\n\n      async function convertToInteractive(key) {\n        const element = document.querySelector('#df-7f8d9995-9574-41ff-a0a1-fc176e7428bb');\n        const dataTable =\n          await google.colab.kernel.invokeFunction('convertToInteractive',\n                                                    [key], {});\n        if (!dataTable) return;\n\n        const docLinkHtml = 'Like what you see? Visit the ' +\n          '<a target=\"_blank\" href=https://colab.research.google.com/notebooks/data_table.ipynb>data table notebook</a>'\n          + ' to learn more about interactive tables.';\n        element.innerHTML = '';\n        dataTable['output_type'] = 'display_data';\n        await google.colab.output.renderOutput(dataTable, element);\n        const docLink = document.createElement('div');\n        docLink.innerHTML = docLinkHtml;\n        element.appendChild(docLink);\n      }\n    </script>\n  </div>\n\n\n    <div id=\"df-628dc903-db7c-40d7-8928-5c0981951514\">\n      <button class=\"colab-df-quickchart\" onclick=\"quickchart('df-628dc903-db7c-40d7-8928-5c0981951514')\"\n                title=\"Suggest charts\"\n                style=\"display:none;\">\n\n<svg xmlns=\"http://www.w3.org/2000/svg\" height=\"24px\"viewBox=\"0 0 24 24\"\n     width=\"24px\">\n    <g>\n        <path d=\"M19 3H5c-1.1 0-2 .9-2 2v14c0 1.1.9 2 2 2h14c1.1 0 2-.9 2-2V5c0-1.1-.9-2-2-2zM9 17H7v-7h2v7zm4 0h-2V7h2v10zm4 0h-2v-4h2v4z\"/>\n    </g>\n</svg>\n      </button>\n\n<style>\n  .colab-df-quickchart {\n      --bg-color: #E8F0FE;\n      --fill-color: #1967D2;\n      --hover-bg-color: #E2EBFA;\n      --hover-fill-color: #174EA6;\n      --disabled-fill-color: #AAA;\n      --disabled-bg-color: #DDD;\n  }\n\n  [theme=dark] .colab-df-quickchart {\n      --bg-color: #3B4455;\n      --fill-color: #D2E3FC;\n      --hover-bg-color: #434B5C;\n      --hover-fill-color: #FFFFFF;\n      --disabled-bg-color: #3B4455;\n      --disabled-fill-color: #666;\n  }\n\n  .colab-df-quickchart {\n    background-color: var(--bg-color);\n    border: none;\n    border-radius: 50%;\n    cursor: pointer;\n    display: none;\n    fill: var(--fill-color);\n    height: 32px;\n    padding: 0;\n    width: 32px;\n  }\n\n  .colab-df-quickchart:hover {\n    background-color: var(--hover-bg-color);\n    box-shadow: 0 1px 2px rgba(60, 64, 67, 0.3), 0 1px 3px 1px rgba(60, 64, 67, 0.15);\n    fill: var(--button-hover-fill-color);\n  }\n\n  .colab-df-quickchart-complete:disabled,\n  .colab-df-quickchart-complete:disabled:hover {\n    background-color: var(--disabled-bg-color);\n    fill: var(--disabled-fill-color);\n    box-shadow: none;\n  }\n\n  .colab-df-spinner {\n    border: 2px solid var(--fill-color);\n    border-color: transparent;\n    border-bottom-color: var(--fill-color);\n    animation:\n      spin 1s steps(1) infinite;\n  }\n\n  @keyframes spin {\n    0% {\n      border-color: transparent;\n      border-bottom-color: var(--fill-color);\n      border-left-color: var(--fill-color);\n    }\n    20% {\n      border-color: transparent;\n      border-left-color: var(--fill-color);\n      border-top-color: var(--fill-color);\n    }\n    30% {\n      border-color: transparent;\n      border-left-color: var(--fill-color);\n      border-top-color: var(--fill-color);\n      border-right-color: var(--fill-color);\n    }\n    40% {\n      border-color: transparent;\n      border-right-color: var(--fill-color);\n      border-top-color: var(--fill-color);\n    }\n    60% {\n      border-color: transparent;\n      border-right-color: var(--fill-color);\n    }\n    80% {\n      border-color: transparent;\n      border-right-color: var(--fill-color);\n      border-bottom-color: var(--fill-color);\n    }\n    90% {\n      border-color: transparent;\n      border-bottom-color: var(--fill-color);\n    }\n  }\n</style>\n\n      <script>\n        async function quickchart(key) {\n          const quickchartButtonEl =\n            document.querySelector('#' + key + ' button');\n          quickchartButtonEl.disabled = true;  // To prevent multiple clicks.\n          quickchartButtonEl.classList.add('colab-df-spinner');\n          try {\n            const charts = await google.colab.kernel.invokeFunction(\n                'suggestCharts', [key], {});\n          } catch (error) {\n            console.error('Error during call to suggestCharts:', error);\n          }\n          quickchartButtonEl.classList.remove('colab-df-spinner');\n          quickchartButtonEl.classList.add('colab-df-quickchart-complete');\n        }\n        (() => {\n          let quickchartButtonEl =\n            document.querySelector('#df-628dc903-db7c-40d7-8928-5c0981951514 button');\n          quickchartButtonEl.style.display =\n            google.colab.kernel.accessAllowed ? 'block' : 'none';\n        })();\n      </script>\n    </div>\n\n  <div id=\"id_25965cca-845b-4ae9-adf4-49e35db8c2f1\">\n    <style>\n      .colab-df-generate {\n        background-color: #E8F0FE;\n        border: none;\n        border-radius: 50%;\n        cursor: pointer;\n        display: none;\n        fill: #1967D2;\n        height: 32px;\n        padding: 0 0 0 0;\n        width: 32px;\n      }\n\n      .colab-df-generate:hover {\n        background-color: #E2EBFA;\n        box-shadow: 0px 1px 2px rgba(60, 64, 67, 0.3), 0px 1px 3px 1px rgba(60, 64, 67, 0.15);\n        fill: #174EA6;\n      }\n\n      [theme=dark] .colab-df-generate {\n        background-color: #3B4455;\n        fill: #D2E3FC;\n      }\n\n      [theme=dark] .colab-df-generate:hover {\n        background-color: #434B5C;\n        box-shadow: 0px 1px 3px 1px rgba(0, 0, 0, 0.15);\n        filter: drop-shadow(0px 1px 2px rgba(0, 0, 0, 0.3));\n        fill: #FFFFFF;\n      }\n    </style>\n    <button class=\"colab-df-generate\" onclick=\"generateWithVariable('merged')\"\n            title=\"Generate code using this dataframe.\"\n            style=\"display:none;\">\n\n  <svg xmlns=\"http://www.w3.org/2000/svg\" height=\"24px\"viewBox=\"0 0 24 24\"\n       width=\"24px\">\n    <path d=\"M7,19H8.4L18.45,9,17,7.55,7,17.6ZM5,21V16.75L18.45,3.32a2,2,0,0,1,2.83,0l1.4,1.43a1.91,1.91,0,0,1,.58,1.4,1.91,1.91,0,0,1-.58,1.4L9.25,21ZM18.45,9,17,7.55Zm-12,3A5.31,5.31,0,0,0,4.9,8.1,5.31,5.31,0,0,0,1,6.5,5.31,5.31,0,0,0,4.9,4.9,5.31,5.31,0,0,0,6.5,1,5.31,5.31,0,0,0,8.1,4.9,5.31,5.31,0,0,0,12,6.5,5.46,5.46,0,0,0,6.5,12Z\"/>\n  </svg>\n    </button>\n    <script>\n      (() => {\n      const buttonEl =\n        document.querySelector('#id_25965cca-845b-4ae9-adf4-49e35db8c2f1 button.colab-df-generate');\n      buttonEl.style.display =\n        google.colab.kernel.accessAllowed ? 'block' : 'none';\n\n      buttonEl.onclick = () => {\n        google.colab.notebook.generateWithVariable('merged');\n      }\n      })();\n    </script>\n  </div>\n\n    </div>\n  </div>\n",
            "application/vnd.google.colaboratory.intrinsic+json": {
              "type": "dataframe",
              "variable_name": "merged",
              "summary": "{\n  \"name\": \"merged\",\n  \"rows\": 9,\n  \"fields\": [\n    {\n      \"column\": \"ISBN\",\n      \"properties\": {\n        \"dtype\": \"string\",\n        \"num_unique_values\": 9,\n        \"samples\": [\n          \"0060928336\",\n          \"0671027360\",\n          \"0312195516\"\n        ],\n        \"semantic_type\": \"\",\n        \"description\": \"\"\n      }\n    },\n    {\n      \"column\": \"Book-Title\",\n      \"properties\": {\n        \"dtype\": \"string\",\n        \"num_unique_values\": 9,\n        \"samples\": [\n          \"Divine Secrets of the Ya-Ya Sisterhood: A Novel\",\n          \"Angels &amp; Demons\",\n          \"The Red Tent (Bestselling Backlist)\"\n        ],\n        \"semantic_type\": \"\",\n        \"description\": \"\"\n      }\n    },\n    {\n      \"column\": \"Counts\",\n      \"properties\": {\n        \"dtype\": \"number\",\n        \"std\": 620,\n        \"min\": 586,\n        \"max\": 2502,\n        \"num_unique_values\": 9,\n        \"samples\": [\n          732,\n          586,\n          723\n        ],\n        \"semantic_type\": \"\",\n        \"description\": \"\"\n      }\n    }\n  ]\n}"
            }
          },
          "metadata": {}
        }
      ],
      "execution_count": null,
      "metadata": {
        "colab": {
          "base_uri": "https://localhost:8080/",
          "height": 331
        },
        "id": "XR-Ft0BbfkdT",
        "outputId": "6ac39a21-1990-4de3-b389-4e18ea68b4ca"
      }
    },
    {
      "cell_type": "code",
      "source": [
        "plt.figure(figsize=(10, 6))\n",
        "sns.barplot(x=\"Counts\", y=\"Book-Title\", data=merged, palette=\"mako\")\n",
        "plt.title(\"Top 10 Most Rated Books\")\n",
        "plt.xlabel(\"Number of Ratings\")\n",
        "plt.ylabel(\"Book Title\")\n",
        "plt.tight_layout()\n",
        "plt.show()"
      ],
      "outputs": [
        {
          "output_type": "stream",
          "name": "stderr",
          "text": [
            "/tmp/ipython-input-52-3340049392.py:2: FutureWarning: \n",
            "\n",
            "Passing `palette` without assigning `hue` is deprecated and will be removed in v0.14.0. Assign the `y` variable to `hue` and set `legend=False` for the same effect.\n",
            "\n",
            "  sns.barplot(x=\"Counts\", y=\"Book-Title\", data=merged, palette=\"mako\")\n"
          ]
        },
        {
          "output_type": "display_data",
          "data": {
            "text/plain": "<Figure size 1000x600 with 1 Axes>",
            "image/png": "[encoded data removed]"
          },
          "metadata": {}
        }
      ],
      "execution_count": null,
      "metadata": {
        "colab": {
          "base_uri": "https://localhost:8080/",
          "height": 714
        },
        "id": "kwcWXhl_gBTZ",
        "outputId": "f912cdee-010b-4e6b-90a4-2d9e1d990acc"
      }
    },
    {
      "cell_type": "markdown",
      "source": [
        "# Rating distribution"
      ],
      "metadata": {
        "id": "N0tusv1YgXTp"
      }
    },
    {
      "cell_type": "code",
      "source": [
        "plt.figure(figsize=(8, 5))\n",
        "sns.histplot(ratings[\"Book-Rating\"], bins=10, kde=True)\n",
        "plt.title(\"Distribution of Book Ratings\")\n",
        "plt.xlabel(\"Rating\")\n",
        "plt.ylabel(\"Count\")\n",
        "plt.tight_layout()\n",
        "plt.show()"
      ],
      "outputs": [
        {
          "output_type": "display_data",
          "data": {
            "text/plain": "<Figure size 800x500 with 1 Axes>",
            "image/png": "[encoded data removed]"
          },
          "metadata": {}
        }
      ],
      "execution_count": null,
      "metadata": {
        "colab": {
          "base_uri": "https://localhost:8080/",
          "height": 507
        },
        "id": "Tgax337ygWxF",
        "outputId": "5ee4ac8a-f331-498d-def8-2d10fd6d4cf5"
      }
    },
    {
      "cell_type": "markdown",
      "source": [
        "# User Age distribution"
      ],
      "metadata": {
        "id": "Cj04UPjfgr87"
      }
    },
    {
      "cell_type": "code",
      "source": [
        "plt.figure(figsize=(10, 5))\n",
        "sns.histplot(users[\"Age\"].dropna(), bins=30, kde=True)\n",
        "plt.title(\"User Age Distribution\")\n",
        "plt.xlabel(\"Age\")\n",
        "plt.ylabel(\"Number of Users\")\n",
        "plt.tight_layout()\n",
        "plt.show()"
      ],
      "outputs": [
        {
          "output_type": "display_data",
          "data": {
            "text/plain": "<Figure size 1000x500 with 1 Axes>",
            "image/png": "[encoded data removed]"
          },
          "metadata": {}
        }
      ],
      "execution_count": null,
      "metadata": {
        "colab": {
          "base_uri": "https://localhost:8080/",
          "height": 507
        },
        "id": "wekIWOOTgrjq",
        "outputId": "24affa85-46f6-468a-b23b-942edd0f8a89"
      }
    },
    {
      "cell_type": "markdown",
      "source": [
        "# Step 5: Feature Selection"
      ],
      "metadata": {
        "id": "bXF9ROAFhIk-"
      }
    },
    {
      "cell_type": "markdown",
      "source": [
        "- Merge ratings with book titles"
      ],
      "metadata": {
        "id": "DoLHm0_fhJs_"
      }
    },
    {
      "cell_type": "code",
      "source": [
        "ratings_with_name = ratings.merge(books, on=\"ISBN\")\n",
        "ratings_with_name"
      ],
      "outputs": [
        {
          "output_type": "execute_result",
          "execution_count": 55,
          "data": {
            "text/plain": "         User-ID        ISBN  Book-Rating  \\\n0         276725  034545104X            0   \n1         276726  0155061224            5   \n2         276727  0446520802            0   \n3         276729  052165615X            3   \n4         276729  0521795028            6   \n...          ...         ...          ...   \n1031129   276704  0876044011            0   \n1031130   276704  1563526298            9   \n1031131   276706  0679447156            0   \n1031132   276709  0515107662           10   \n1031133   276721  0590442449           10   \n\n                                                Book-Title        Book-Author  \\\n0                                     Flesh Tones: A Novel         M. J. Rose   \n1                                         Rites of Passage         Judith Rae   \n2                                             The Notebook    Nicholas Sparks   \n3                                           Help!: Level 1      Philip Prowse   \n4        The Amsterdam Connection : Level 4 (Cambridge ...        Sue Leather   \n...                                                    ...                ...   \n1031129  Edgar Cayce on the Akashic Records: The Book o...  Kevin J. Todeschi   \n1031130  Get Clark Smart : The Ultimate Guide for the S...       Clark Howard   \n1031131  Eight Weeks to Optimum Health: A Proven Progra...        Andrew Weil   \n1031132   The Sherbrooke Bride (Bride Trilogy (Paperback))  Catherine Coulter   \n1031133                                  Fourth Grade Rats     Jerry Spinelli   \n\n        Year-Of-Publication  \\\n0                      2002   \n1                      2001   \n2                      1996   \n3                      1999   \n4                      2001   \n...                     ...   \n1031129                1998   \n1031130                2000   \n1031131                1997   \n1031132                1996   \n1031133                1996   \n\n                                                 Publisher  \\\n0                                         Ballantine Books   \n1                                                   Heinle   \n2                                             Warner Books   \n3                               Cambridge University Press   \n4                               Cambridge University Press   \n...                                                    ...   \n1031129  A.R.E. Press (Association of Research &amp; Enlig   \n1031130                                   Longstreet Press   \n1031131                                    Alfred A. Knopf   \n1031132                                         Jove Books   \n1031133                                         Scholastic   \n\n                                               Image-URL-S  \\\n0        http://images.amazon.com/images/P/034545104X.0...   \n1        http://images.amazon.com/images/P/0155061224.0...   \n2        http://images.amazon.com/images/P/0446520802.0...   \n3        http://images.amazon.com/images/P/052165615X.0...   \n4        http://images.amazon.com/images/P/0521795028.0...   \n...                                                    ...   \n1031129  http://images.amazon.com/images/P/0876044011.0...   \n1031130  http://images.amazon.com/images/P/1563526298.0...   \n1031131  http://images.amazon.com/images/P/0679447156.0...   \n1031132  http://images.amazon.com/images/P/0515107662.0...   \n1031133  http://images.amazon.com/images/P/0590442449.0...   \n\n                                               Image-URL-M  \\\n0        http://images.amazon.com/images/P/034545104X.0...   \n1        http://images.amazon.com/images/P/0155061224.0...   \n2        http://images.amazon.com/images/P/0446520802.0...   \n3        http://images.amazon.com/images/P/052165615X.0...   \n4        http://images.amazon.com/images/P/0521795028.0...   \n...                                                    ...   \n1031129  http://images.amazon.com/images/P/0876044011.0...   \n1031130  http://images.amazon.com/images/P/1563526298.0...   \n1031131  http://images.amazon.com/images/P/0679447156.0...   \n1031132  http://images.amazon.com/images/P/0515107662.0...   \n1031133  http://images.amazon.com/images/P/0590442449.0...   \n\n                                               Image-URL-L  \n0        http://images.amazon.com/images/P/034545104X.0...  \n1        http://images.amazon.com/images/P/0155061224.0...  \n2        http://images.amazon.com/images/P/0446520802.0...  \n3        http://images.amazon.com/images/P/052165615X.0...  \n4        http://images.amazon.com/images/P/0521795028.0...  \n...                                                    ...  \n1031129  http://images.amazon.com/images/P/0876044011.0...  \n1031130  http://images.amazon.com/images/P/1563526298.0...  \n1031131  http://images.amazon.com/images/P/0679447156.0...  \n1031132  http://images.amazon.com/images/P/0515107662.0...  \n1031133  http://images.amazon.com/images/P/0590442449.0...  \n\n[1031134 rows x 10 columns]",
            "text/html": "\n  <div id=\"df-da06e992-b405-4b4f-b1a6-399bf478713b\" class=\"colab-df-container\">\n    <div>\n<style scoped>\n    .dataframe tbody tr th:only-of-type {\n        vertical-align: middle;\n    }\n\n    .dataframe tbody tr th {\n        vertical-align: top;\n    }\n\n    .dataframe thead th {\n        text-align: right;\n    }\n</style>\n<table border=\"1\" class=\"dataframe\">\n  <thead>\n    <tr style=\"text-align: right;\">\n      <th></th>\n      <th>User-ID</th>\n      <th>ISBN</th>\n      <th>Book-Rating</th>\n      <th>Book-Title</th>\n      <th>Book-Author</th>\n      <th>Year-Of-Publication</th>\n      <th>Publisher</th>\n      <th>Image-URL-S</th>\n      <th>Image-URL-M</th>\n      <th>Image-URL-L</th>\n    </tr>\n  </thead>\n  <tbody>\n    <tr>\n      <th>0</th>\n      <td>276725</td>\n      <td>034545104X</td>\n      <td>0</td>\n      <td>Flesh Tones: A Novel</td>\n      <td>M. J. Rose</td>\n      <td>2002</td>\n      <td>Ballantine Books</td>\n      <td>http://images.amazon.com/images/P/034545104X.0...</td>\n      <td>http://images.amazon.com/images/P/034545104X.0...</td>\n      <td>http://images.amazon.com/images/P/034545104X.0...</td>\n    </tr>\n    <tr>\n      <th>1</th>\n      <td>276726</td>\n      <td>0155061224</td>\n      <td>5</td>\n      <td>Rites of Passage</td>\n      <td>Judith Rae</td>\n      <td>2001</td>\n      <td>Heinle</td>\n      <td>http://images.amazon.com/images/P/0155061224.0...</td>\n      <td>http://images.amazon.com/images/P/0155061224.0...</td>\n      <td>http://images.amazon.com/images/P/0155061224.0...</td>\n    </tr>\n    <tr>\n      <th>2</th>\n      <td>276727</td>\n      <td>0446520802</td>\n      <td>0</td>\n      <td>The Notebook</td>\n      <td>Nicholas Sparks</td>\n      <td>1996</td>\n      <td>Warner Books</td>\n      <td>http://images.amazon.com/images/P/0446520802.0...</td>\n      <td>http://images.amazon.com/images/P/0446520802.0...</td>\n      <td>http://images.amazon.com/images/P/0446520802.0...</td>\n    </tr>\n    <tr>\n      <th>3</th>\n      <td>276729</td>\n      <td>052165615X</td>\n      <td>3</td>\n      <td>Help!: Level 1</td>\n      <td>Philip Prowse</td>\n      <td>1999</td>\n      <td>Cambridge University Press</td>\n      <td>http://images.amazon.com/images/P/052165615X.0...</td>\n      <td>http://images.amazon.com/images/P/052165615X.0...</td>\n      <td>http://images.amazon.com/images/P/052165615X.0...</td>\n    </tr>\n    <tr>\n      <th>4</th>\n      <td>276729</td>\n      <td>0521795028</td>\n      <td>6</td>\n      <td>The Amsterdam Connection : Level 4 (Cambridge ...</td>\n      <td>Sue Leather</td>\n      <td>2001</td>\n      <td>Cambridge University Press</td>\n      <td>http://images.amazon.com/images/P/0521795028.0...</td>\n      <td>http://images.amazon.com/images/P/0521795028.0...</td>\n      <td>http://images.amazon.com/images/P/0521795028.0...</td>\n    </tr>\n    <tr>\n      <th>...</th>\n      <td>...</td>\n      <td>...</td>\n      <td>...</td>\n      <td>...</td>\n      <td>...</td>\n      <td>...</td>\n      <td>...</td>\n      <td>...</td>\n      <td>...</td>\n      <td>...</td>\n    </tr>\n    <tr>\n      <th>1031129</th>\n      <td>276704</td>\n      <td>0876044011</td>\n      <td>0</td>\n      <td>Edgar Cayce on the Akashic Records: The Book o...</td>\n      <td>Kevin J. Todeschi</td>\n      <td>1998</td>\n      <td>A.R.E. Press (Association of Research &amp;amp; Enlig</td>\n      <td>http://images.amazon.com/images/P/0876044011.0...</td>\n      <td>http://images.amazon.com/images/P/0876044011.0...</td>\n      <td>http://images.amazon.com/images/P/0876044011.0...</td>\n    </tr>\n    <tr>\n      <th>1031130</th>\n      <td>276704</td>\n      <td>1563526298</td>\n      <td>9</td>\n      <td>Get Clark Smart : The Ultimate Guide for the S...</td>\n      <td>Clark Howard</td>\n      <td>2000</td>\n      <td>Longstreet Press</td>\n      <td>http://images.amazon.com/images/P/1563526298.0...</td>\n      <td>http://images.amazon.com/images/P/1563526298.0...</td>\n      <td>http://images.amazon.com/images/P/1563526298.0...</td>\n    </tr>\n    <tr>\n      <th>1031131</th>\n      <td>276706</td>\n      <td>0679447156</td>\n      <td>0</td>\n      <td>Eight Weeks to Optimum Health: A Proven Progra...</td>\n      <td>Andrew Weil</td>\n      <td>1997</td>\n      <td>Alfred A. Knopf</td>\n      <td>http://images.amazon.com/images/P/0679447156.0...</td>\n      <td>http://images.amazon.com/images/P/0679447156.0...</td>\n      <td>http://images.amazon.com/images/P/0679447156.0...</td>\n    </tr>\n    <tr>\n      <th>1031132</th>\n      <td>276709</td>\n      <td>0515107662</td>\n      <td>10</td>\n      <td>The Sherbrooke Bride (Bride Trilogy (Paperback))</td>\n      <td>Catherine Coulter</td>\n      <td>1996</td>\n      <td>Jove Books</td>\n      <td>http://images.amazon.com/images/P/0515107662.0...</td>\n      <td>http://images.amazon.com/images/P/0515107662.0...</td>\n      <td>http://images.amazon.com/images/P/0515107662.0...</td>\n    </tr>\n    <tr>\n      <th>1031133</th>\n      <td>276721</td>\n      <td>0590442449</td>\n      <td>10</td>\n      <td>Fourth Grade Rats</td>\n      <td>Jerry Spinelli</td>\n      <td>1996</td>\n      <td>Scholastic</td>\n      <td>http://images.amazon.com/images/P/0590442449.0...</td>\n      <td>http://images.amazon.com/images/P/0590442449.0...</td>\n      <td>http://images.amazon.com/images/P/0590442449.0...</td>\n    </tr>\n  </tbody>\n</table>\n<p>1031134 rows × 10 columns</p>\n</div>\n    <div class=\"colab-df-buttons\">\n\n  <div class=\"colab-df-container\">\n    <button class=\"colab-df-convert\" onclick=\"convertToInteractive('df-da06e992-b405-4b4f-b1a6-399bf478713b')\"\n            title=\"Convert this dataframe to an interactive table.\"\n            style=\"display:none;\">\n\n  <svg xmlns=\"http://www.w3.org/2000/svg\" height=\"24px\" viewBox=\"0 -960 960 960\">\n    <path d=\"M120-120v-720h720v720H120Zm60-500h600v-160H180v160Zm220 220h160v-160H400v160Zm0 220h160v-160H400v160ZM180-400h160v-160H180v160Zm440 0h160v-160H620v160ZM180-180h160v-160H180v160Zm440 0h160v-160H620v160Z\"/>\n  </svg>\n    </button>\n\n  <style>\n    .colab-df-container {\n      display:flex;\n      gap: 12px;\n    }\n\n    .colab-df-convert {\n      background-color: #E8F0FE;\n      border: none;\n      border-radius: 50%;\n      cursor: pointer;\n      display: none;\n      fill: #1967D2;\n      height: 32px;\n      padding: 0 0 0 0;\n      width: 32px;\n    }\n\n    .colab-df-convert:hover {\n      background-color: #E2EBFA;\n      box-shadow: 0px 1px 2px rgba(60, 64, 67, 0.3), 0px 1px 3px 1px rgba(60, 64, 67, 0.15);\n      fill: #174EA6;\n    }\n\n    .colab-df-buttons div {\n      margin-bottom: 4px;\n    }\n\n    [theme=dark] .colab-df-convert {\n      background-color: #3B4455;\n      fill: #D2E3FC;\n    }\n\n    [theme=dark] .colab-df-convert:hover {\n      background-color: #434B5C;\n      box-shadow: 0px 1px 3px 1px rgba(0, 0, 0, 0.15);\n      filter: drop-shadow(0px 1px 2px rgba(0, 0, 0, 0.3));\n      fill: #FFFFFF;\n    }\n  </style>\n\n    <script>\n      const buttonEl =\n        document.querySelector('#df-da06e992-b405-4b4f-b1a6-399bf478713b button.colab-df-convert');\n      buttonEl.style.display =\n        google.colab.kernel.accessAllowed ? 'block' : 'none';\n\n      async function convertToInteractive(key) {\n        const element = document.querySelector('#df-da06e992-b405-4b4f-b1a6-399bf478713b');\n        const dataTable =\n          await google.colab.kernel.invokeFunction('convertToInteractive',\n                                                    [key], {});\n        if (!dataTable) return;\n\n        const docLinkHtml = 'Like what you see? Visit the ' +\n          '<a target=\"_blank\" href=https://colab.research.google.com/notebooks/data_table.ipynb>data table notebook</a>'\n          + ' to learn more about interactive tables.';\n        element.innerHTML = '';\n        dataTable['output_type'] = 'display_data';\n        await google.colab.output.renderOutput(dataTable, element);\n        const docLink = document.createElement('div');\n        docLink.innerHTML = docLinkHtml;\n        element.appendChild(docLink);\n      }\n    </script>\n  </div>\n\n\n    <div id=\"df-d7a633ba-4633-410e-8411-60a1b61217b2\">\n      <button class=\"colab-df-quickchart\" onclick=\"quickchart('df-d7a633ba-4633-410e-8411-60a1b61217b2')\"\n                title=\"Suggest charts\"\n                style=\"display:none;\">\n\n<svg xmlns=\"http://www.w3.org/2000/svg\" height=\"24px\"viewBox=\"0 0 24 24\"\n     width=\"24px\">\n    <g>\n        <path d=\"M19 3H5c-1.1 0-2 .9-2 2v14c0 1.1.9 2 2 2h14c1.1 0 2-.9 2-2V5c0-1.1-.9-2-2-2zM9 17H7v-7h2v7zm4 0h-2V7h2v10zm4 0h-2v-4h2v4z\"/>\n    </g>\n</svg>\n      </button>\n\n<style>\n  .colab-df-quickchart {\n      --bg-color: #E8F0FE;\n      --fill-color: #1967D2;\n      --hover-bg-color: #E2EBFA;\n      --hover-fill-color: #174EA6;\n      --disabled-fill-color: #AAA;\n      --disabled-bg-color: #DDD;\n  }\n\n  [theme=dark] .colab-df-quickchart {\n      --bg-color: #3B4455;\n      --fill-color: #D2E3FC;\n      --hover-bg-color: #434B5C;\n      --hover-fill-color: #FFFFFF;\n      --disabled-bg-color: #3B4455;\n      --disabled-fill-color: #666;\n  }\n\n  .colab-df-quickchart {\n    background-color: var(--bg-color);\n    border: none;\n    border-radius: 50%;\n    cursor: pointer;\n    display: none;\n    fill: var(--fill-color);\n    height: 32px;\n    padding: 0;\n    width: 32px;\n  }\n\n  .colab-df-quickchart:hover {\n    background-color: var(--hover-bg-color);\n    box-shadow: 0 1px 2px rgba(60, 64, 67, 0.3), 0 1px 3px 1px rgba(60, 64, 67, 0.15);\n    fill: var(--button-hover-fill-color);\n  }\n\n  .colab-df-quickchart-complete:disabled,\n  .colab-df-quickchart-complete:disabled:hover {\n    background-color: var(--disabled-bg-color);\n    fill: var(--disabled-fill-color);\n    box-shadow: none;\n  }\n\n  .colab-df-spinner {\n    border: 2px solid var(--fill-color);\n    border-color: transparent;\n    border-bottom-color: var(--fill-color);\n    animation:\n      spin 1s steps(1) infinite;\n  }\n\n  @keyframes spin {\n    0% {\n      border-color: transparent;\n      border-bottom-color: var(--fill-color);\n      border-left-color: var(--fill-color);\n    }\n    20% {\n      border-color: transparent;\n      border-left-color: var(--fill-color);\n      border-top-color: var(--fill-color);\n    }\n    30% {\n      border-color: transparent;\n      border-left-color: var(--fill-color);\n      border-top-color: var(--fill-color);\n      border-right-color: var(--fill-color);\n    }\n    40% {\n      border-color: transparent;\n      border-right-color: var(--fill-color);\n      border-top-color: var(--fill-color);\n    }\n    60% {\n      border-color: transparent;\n      border-right-color: var(--fill-color);\n    }\n    80% {\n      border-color: transparent;\n      border-right-color: var(--fill-color);\n      border-bottom-color: var(--fill-color);\n    }\n    90% {\n      border-color: transparent;\n      border-bottom-color: var(--fill-color);\n    }\n  }\n</style>\n\n      <script>\n        async function quickchart(key) {\n          const quickchartButtonEl =\n            document.querySelector('#' + key + ' button');\n          quickchartButtonEl.disabled = true;  // To prevent multiple clicks.\n          quickchartButtonEl.classList.add('colab-df-spinner');\n          try {\n            const charts = await google.colab.kernel.invokeFunction(\n                'suggestCharts', [key], {});\n          } catch (error) {\n            console.error('Error during call to suggestCharts:', error);\n          }\n          quickchartButtonEl.classList.remove('colab-df-spinner');\n          quickchartButtonEl.classList.add('colab-df-quickchart-complete');\n        }\n        (() => {\n          let quickchartButtonEl =\n            document.querySelector('#df-d7a633ba-4633-410e-8411-60a1b61217b2 button');\n          quickchartButtonEl.style.display =\n            google.colab.kernel.accessAllowed ? 'block' : 'none';\n        })();\n      </script>\n    </div>\n\n  <div id=\"id_adf463af-5b43-48c6-86b0-c970ec217632\">\n    <style>\n      .colab-df-generate {\n        background-color: #E8F0FE;\n        border: none;\n        border-radius: 50%;\n        cursor: pointer;\n        display: none;\n        fill: #1967D2;\n        height: 32px;\n        padding: 0 0 0 0;\n        width: 32px;\n      }\n\n      .colab-df-generate:hover {\n        background-color: #E2EBFA;\n        box-shadow: 0px 1px 2px rgba(60, 64, 67, 0.3), 0px 1px 3px 1px rgba(60, 64, 67, 0.15);\n        fill: #174EA6;\n      }\n\n      [theme=dark] .colab-df-generate {\n        background-color: #3B4455;\n        fill: #D2E3FC;\n      }\n\n      [theme=dark] .colab-df-generate:hover {\n        background-color: #434B5C;\n        box-shadow: 0px 1px 3px 1px rgba(0, 0, 0, 0.15);\n        filter: drop-shadow(0px 1px 2px rgba(0, 0, 0, 0.3));\n        fill: #FFFFFF;\n      }\n    </style>\n    <button class=\"colab-df-generate\" onclick=\"generateWithVariable('ratings_with_name')\"\n            title=\"Generate code using this dataframe.\"\n            style=\"display:none;\">\n\n  <svg xmlns=\"http://www.w3.org/2000/svg\" height=\"24px\"viewBox=\"0 0 24 24\"\n       width=\"24px\">\n    <path d=\"M7,19H8.4L18.45,9,17,7.55,7,17.6ZM5,21V16.75L18.45,3.32a2,2,0,0,1,2.83,0l1.4,1.43a1.91,1.91,0,0,1,.58,1.4,1.91,1.91,0,0,1-.58,1.4L9.25,21ZM18.45,9,17,7.55Zm-12,3A5.31,5.31,0,0,0,4.9,8.1,5.31,5.31,0,0,0,1,6.5,5.31,5.31,0,0,0,4.9,4.9,5.31,5.31,0,0,0,6.5,1,5.31,5.31,0,0,0,8.1,4.9,5.31,5.31,0,0,0,12,6.5,5.46,5.46,0,0,0,6.5,12Z\"/>\n  </svg>\n    </button>\n    <script>\n      (() => {\n      const buttonEl =\n        document.querySelector('#id_adf463af-5b43-48c6-86b0-c970ec217632 button.colab-df-generate');\n      buttonEl.style.display =\n        google.colab.kernel.accessAllowed ? 'block' : 'none';\n\n      buttonEl.onclick = () => {\n        google.colab.notebook.generateWithVariable('ratings_with_name');\n      }\n      })();\n    </script>\n  </div>\n\n    </div>\n  </div>\n",
            "application/vnd.google.colaboratory.intrinsic+json": {
              "type": "dataframe",
              "variable_name": "ratings_with_name"
            }
          },
          "metadata": {}
        }
      ],
      "execution_count": null,
      "metadata": {
        "colab": {
          "base_uri": "https://localhost:8080/",
          "height": 947
        },
        "id": "V315JOfUhO0B",
        "outputId": "8d65a877-16e7-4ef1-dea4-cae7f0312658"
      }
    },
    {
      "cell_type": "markdown",
      "source": [
        "- Filter users who rated more than 200 books"
      ],
      "metadata": {
        "id": "hlnSovEyhZ4f"
      }
    },
    {
      "cell_type": "code",
      "source": [
        "x = ratings_with_name.groupby(\"User-ID\").count()[\"Book-Rating\"] > 200\n",
        "active_users = x[x].index"
      ],
      "outputs": [],
      "execution_count": null,
      "metadata": {
        "id": "Cssr35uchZfx"
      }
    },
    {
      "cell_type": "code",
      "source": [
        "filtered_rating = ratings_with_name[ratings_with_name[\"User-ID\"].isin(active_users)]"
      ],
      "outputs": [],
      "execution_count": null,
      "metadata": {
        "id": "mN9OYLPRhiKC"
      }
    },
    {
      "cell_type": "markdown",
      "source": [
        "- Filter books with at least 50 ratings"
      ],
      "metadata": {
        "id": "GAHadFmnhklm"
      }
    },
    {
      "cell_type": "code",
      "source": [
        "y = filtered_rating.groupby(\"Book-Title\").count()[\"Book-Rating\"] >= 50\n",
        "famous_books = y[y].index"
      ],
      "outputs": [],
      "execution_count": null,
      "metadata": {
        "id": "gMRRuY-NhnYL"
      }
    },
    {
      "cell_type": "code",
      "source": [
        "final_ratings = filtered_rating[filtered_rating[\"Book-Title\"].isin(famous_books)]"
      ],
      "outputs": [],
      "execution_count": null,
      "metadata": {
        "id": "7araW5bghvFt"
      }
    },
    {
      "cell_type": "markdown",
      "source": [
        "# Step 6: Model Development"
      ],
      "metadata": {
        "id": "pBp23FGbh1fK"
      }
    },
    {
      "cell_type": "markdown",
      "source": [
        "- Create Pivot Table"
      ],
      "metadata": {
        "id": "6pQo5m9kh7w3"
      }
    },
    {
      "cell_type": "code",
      "source": [
        "pt = final_ratings.pivot_table(index=\"Book-Title\", columns=\"User-ID\", values=\"Book-Rating\")\n",
        "pt.fillna(0, inplace=True)"
      ],
      "outputs": [
        {
          "output_type": "error",
          "ename": "NameError",
          "evalue": "name 'final_ratings' is not defined",
          "traceback": [
            "\u001b[31m---------------------------------------------------------------------------\u001b[39m",
            "\u001b[31mNameError\u001b[39m                                 Traceback (most recent call last)",
            "\u001b[36mCell\u001b[39m\u001b[36m \u001b[39m\u001b[32mIn[2]\u001b[39m\u001b[32m, line 1\u001b[39m\n\u001b[32m----> \u001b[39m\u001b[32m1\u001b[39m pt = \u001b[43mfinal_ratings\u001b[49m.pivot_table(index=\u001b[33m\"\u001b[39m\u001b[33mBook-Title\u001b[39m\u001b[33m\"\u001b[39m, columns=\u001b[33m\"\u001b[39m\u001b[33mUser-ID\u001b[39m\u001b[33m\"\u001b[39m, values=\u001b[33m\"\u001b[39m\u001b[33mBook-Rating\u001b[39m\u001b[33m\"\u001b[39m)\n\u001b[32m      2\u001b[39m pt.fillna(\u001b[32m0\u001b[39m, inplace=\u001b[38;5;28;01mTrue\u001b[39;00m)\n",
            "\u001b[31mNameError\u001b[39m: name 'final_ratings' is not defined"
          ]
        }
      ],
      "execution_count": 2,
      "metadata": {
        "id": "Lx8eSbjoh2ru",
        "execution": {
          "iopub.status.busy": "2025-07-30T06:12:07.395Z",
          "iopub.execute_input": "2025-07-30T06:12:07.409Z"
        }
      }
    },
    {
      "cell_type": "markdown",
      "source": [
        "- Compute cosine similarity"
      ],
      "metadata": {
        "id": "f4nGALCOiAZL"
      }
    },
    {
      "cell_type": "code",
      "source": [
        "similarity_score = cosine_similarity(pt)"
      ],
      "outputs": [],
      "execution_count": null,
      "metadata": {
        "id": "GMTAJBYViDyZ"
      }
    },
    {
      "cell_type": "markdown",
      "source": [
        "Step 7: Evaluation - Recommend Function"
      ],
      "metadata": {
        "id": "6NducSWeiHfI"
      }
    },
    {
      "cell_type": "code",
      "source": [
        "def recommend(book_name):\n",
        "    \"\"\"Returns top 5 similar books to the given book.\"\"\"\n",
        "    try:\n",
        "        index = np.where(pt.index == book_name)[0][0]\n",
        "        similar_items = sorted(\n",
        "            list(enumerate(similarity_score[index])),\n",
        "            key=lambda x: x[1],\n",
        "            reverse=True\n",
        "        )[1:6]\n",
        "\n",
        "        print(f\"Recommendations for: {book_name}\\n\")\n",
        "        for i in similar_items:\n",
        "            print(pt.index[i[0]])\n",
        "    except IndexError:\n",
        "        print(\"Book not found in the system or not enough ratings!\")"
      ],
      "outputs": [],
      "execution_count": null,
      "metadata": {
        "id": "wj1h6IcPiJ_9"
      }
    },
    {
      "cell_type": "code",
      "source": [
        "similarity_score = [\n",
        "    [1.00, 0.3, 0.2],\n",
        "    [0.3, 1.00, 0.5],\n",
        "    [0.2, 0.5, 1.00]\n",
        "]\n",
        "index = 1  # second book\n",
        "\n",
        "enumerated = list(enumerate(similarity_score[index]))\n",
        "# [(0, 0.3), (1, 1.00), (2, 0.5)]\n",
        "\n",
        "sorted_output = sorted(enumerated, key=lambda x: x[1], reverse=True)\n",
        "# [(1, 1.00), (2, 0.5), (0, 0.3)]\n",
        "\n",
        "top_similar = sorted_output[1:6]\n",
        "# [(2, 0.5), (0, 0.3)]"
      ],
      "outputs": [],
      "execution_count": null,
      "metadata": {
        "collapsed": true,
        "jupyter": {
          "source_hidden": false,
          "outputs_hidden": false
        },
        "nteract": {
          "transient": {
            "deleting": false
          }
        }
      }
    },
    {
      "cell_type": "markdown",
      "source": [
        "- Example Usage"
      ],
      "metadata": {
        "id": "_uS7UaQOiYWv"
      }
    },
    {
      "cell_type": "code",
      "source": [
        "recommend(\"1984\")"
      ],
      "outputs": [
        {
          "output_type": "stream",
          "name": "stdout",
          "text": [
            "Recommendations for: 1984\n",
            "\n",
            "Animal Farm\n",
            "The Handmaid's Tale\n",
            "Brave New World\n",
            "The Vampire Lestat (Vampire Chronicles, Book II)\n",
            "The Hours : A Novel\n"
          ]
        }
      ],
      "execution_count": null,
      "metadata": {
        "colab": {
          "base_uri": "https://localhost:8080/"
        },
        "id": "EPW86gDLib9t",
        "outputId": "4fa36a32-4768-456d-dfcd-33a6acbf027f"
      }
    },
    {
      "cell_type": "code",
      "source": [
        "recommend(\"Message in a Bottle\")"
      ],
      "outputs": [
        {
          "output_type": "stream",
          "name": "stdout",
          "text": [
            "Recommendations for: Message in a Bottle\n",
            "\n",
            "Nights in Rodanthe\n",
            "The Mulberry Tree\n",
            "A Walk to Remember\n",
            "River's End\n",
            "Nightmares &amp; Dreamscapes\n"
          ]
        }
      ],
      "execution_count": null,
      "metadata": {
        "colab": {
          "base_uri": "https://localhost:8080/"
        },
        "id": "pB5BsNWsi1KH",
        "outputId": "e651a685-d47b-41ee-cfd4-75ce9ca497b6"
      }
    },
    {
      "cell_type": "markdown",
      "source": [
        "# Step 8: Popularity Based Recommendations"
      ],
      "metadata": {
        "id": "4CXLaTZbi5HS"
      }
    },
    {
      "cell_type": "code",
      "source": [
        "num_of_rating_df = ratings_with_name.groupby(\"Book-Title\").count()[[\"Book-Rating\"]].reset_index()\n",
        "num_of_rating_df.rename(columns={\"Book-Rating\": \"num_ratings\"}, inplace=True)"
      ],
      "outputs": [],
      "execution_count": null,
      "metadata": {
        "id": "aFc9FYKki6Hz"
      }
    },
    {
      "cell_type": "code",
      "source": [
        "avg_rating_df = ratings_with_name.groupby(\"Book-Title\")[\"Book-Rating\"].mean().reset_index()\n",
        "avg_rating_df.rename(columns={\"Book-Rating\": \"avg_ratings\"}, inplace=True)"
      ],
      "outputs": [],
      "execution_count": null,
      "metadata": {
        "id": "T24mw7PUjLA7"
      }
    },
    {
      "cell_type": "code",
      "source": [
        "popular_df = num_of_rating_df.merge(avg_rating_df, on=\"Book-Title\")\n",
        "popular_df = popular_df[popular_df[\"num_ratings\"] >= 250].sort_values(\"avg_ratings\", ascending=False).head(50)"
      ],
      "outputs": [],
      "execution_count": null,
      "metadata": {
        "id": "KDfuFk1kjPVW"
      }
    },
    {
      "cell_type": "code",
      "source": [
        "final_popular_books = popular_df.merge(books, on=\"Book-Title\").drop_duplicates(\"Book-Title\")[[\"Book-Title\", \"Book-Author\", \"Image-URL-M\", \"num_ratings\", \"avg_ratings\"]]"
      ],
      "outputs": [],
      "execution_count": null,
      "metadata": {
        "id": "fQGsyBBQjTIU"
      }
    },
    {
      "cell_type": "code",
      "source": [
        "print(\"Top 10 Popular Books:\\n\")\n",
        "print(final_popular_books[[\"Book-Title\", \"Book-Author\", \"num_ratings\", \"avg_ratings\"]].head(10))\n"
      ],
      "outputs": [
        {
          "output_type": "stream",
          "name": "stdout",
          "text": [
            "Top 10 Popular Books:\n",
            "\n",
            "                                           Book-Title     Book-Author  \\\n",
            "0   Harry Potter and the Prisoner of Azkaban (Book 3)   J. K. Rowling   \n",
            "3        Harry Potter and the Goblet of Fire (Book 4)   J. K. Rowling   \n",
            "5      Harry Potter and the Sorcerer's Stone (Book 1)   J. K. Rowling   \n",
            "9   Harry Potter and the Order of the Phoenix (Boo...   J. K. Rowling   \n",
            "13   Harry Potter and the Chamber of Secrets (Book 2)   J. K. Rowling   \n",
            "16  The Hobbit : The Enchanting Prelude to The Lor...  J.R.R. TOLKIEN   \n",
            "17  The Fellowship of the Ring (The Lord of the Ri...  J.R.R. TOLKIEN   \n",
            "26  Harry Potter and the Sorcerer's Stone (Harry P...   J. K. Rowling   \n",
            "28     The Two Towers (The Lord of the Rings, Part 2)  J.R.R. TOLKIEN   \n",
            "39                              To Kill a Mockingbird      Harper Lee   \n",
            "\n",
            "    num_ratings  avg_ratings  \n",
            "0           428     5.852804  \n",
            "3           387     5.824289  \n",
            "5           278     5.737410  \n",
            "9           347     5.501441  \n",
            "13          556     5.183453  \n",
            "16          281     5.007117  \n",
            "17          368     4.948370  \n",
            "26          575     4.895652  \n",
            "28          260     4.880769  \n",
            "39          510     4.700000  \n"
          ]
        }
      ],
      "execution_count": null,
      "metadata": {
        "colab": {
          "base_uri": "https://localhost:8080/"
        },
        "id": "xHVKR1KEjYQS",
        "outputId": "c517fe3c-1604-43a0-a82e-ed6261204c6c"
      }
    }
  ],
  "metadata": {
    "colab": {
      "provenance": []
    },
    "kernelspec": {
      "name": "python3",
      "display_name": "Python 3"
    },
    "language_info": {
      "name": "python",
      "version": "3.13.1",
      "mimetype": "text/x-python",
      "codemirror_mode": {
        "name": "ipython",
        "version": 3
      },
      "pygments_lexer": "ipython3",
      "nbconvert_exporter": "python",
      "file_extension": ".py"
    },
    "nteract": {
      "version": "0.28.0"
    }
  },
  "nbformat": 4,
  "nbformat_minor": 0
}